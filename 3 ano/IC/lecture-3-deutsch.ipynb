{
 "cells": [
  {
   "cell_type": "markdown",
   "metadata": {},
   "source": [
    "##### Concurrency and interaction  2024/2025\n",
    "### Lecture 3 - Deutsch Algorithm"
   ]
  },
  {
   "cell_type": "markdown",
   "metadata": {},
   "source": [
    "<!-- no toc -->\n",
    "### Contents \n",
    "\n",
    "1. [Deutsch's Algorithm](#Deutsch)\n",
    "2. [Deutsch-Jozsa Algorithm](#Deutsch-jozsa)"
   ]
  },
  {
   "cell_type": "markdown",
   "metadata": {},
   "source": [
    "### 2. Deutsch's Algorithm <a id=\"Deutsch\"></a>\n",
    "\n",
    "Let's consider a Boolean function $f:\\{0,1\\} \\rightarrow \\{0,1\\}$ that can either be balanced or constant.\n",
    "\n",
    "- **Constant**: its output is always 0 or always 1\n",
    "- **Balanced**: outputs 0 for one input and 1 for the other\n",
    "\n",
    "\n",
    "<p align=\"center\">\n",
    "  <img width=\"600\" height=\"300\" src=\"images/balanced_vs_constant.png\">\n",
    "</p>\n",
    "\n",
    "<p align=\"center\">\n",
    "  <img width=\"600\" height=\"200\" src=\"images/deutsch.png\">\n",
    "</p>\n",
    "\n",
    "$U_f$ is our function, usually seen as an oracle, or a black-box function that we want to find if it's balanced or constant\n",
    "\n",
    "\n",
    "The result for the measurement of the first qubit will be:\n",
    "\n",
    "* $P(0)=1$ if the function is **constant**\n",
    "* $P(1)=1$ if the function is **balanced**\n",
    "\n",
    "In general for $n$-bit Boolean functions $f:\\{0,1\\}^n \\rightarrow \\{0,1\\}$, the generalized Deutsch-Jozsa algorithm can determine if the function is constant or balanced with $\\mathcal{O}(1)$ queries to the function using superposition of inputs + interference. \n",
    "\n",
    "The classical algorithm needs $\\mathcal{O}(2^{n-1} + 1)$ queries to determine if the function is balanced or constant."
   ]
  },
  {
   "cell_type": "markdown",
   "metadata": {},
   "source": [
    "#### Implement every function and check if it's balanced or constant\n"
   ]
  },
  {
   "cell_type": "code",
   "execution_count": 167,
   "metadata": {},
   "outputs": [],
   "source": [
    "import pennylane as qml"
   ]
  },
  {
   "cell_type": "code",
   "execution_count": 168,
   "metadata": {},
   "outputs": [],
   "source": [
    "\n",
    "def f(id=4):\n",
    "    # 2 - Not Ancilla\n",
    "    if id == 2:\n",
    "        qml.PauliX(wires=0)\n",
    "    \n",
    "    # 3 - Cnot direto\n",
    "    elif id == 3:\n",
    "        qml.CNOT(wires=[0, 1])\n",
    "    \n",
    "    # 4 - Cnot com inversão\n",
    "    elif id == 4:\n",
    "        qml.PauliX(wires=0)\n",
    "        qml.CNOT(wires=[1, 0])\n",
    "        qml.PauliX(wires=0)\n"
   ]
  },
  {
   "cell_type": "code",
   "execution_count": 169,
   "metadata": {},
   "outputs": [],
   "source": [
    "n_qubits = 2\n",
    "\n",
    "dev = qml.device(\"default.qubit\", wires=n_qubits)\n",
    "\n",
    "@qml.qnode(dev)\n",
    "def Deutsch(id=3):\n",
    "\n",
    "    #superposition\n",
    "    qml.Hadamard(wires=0)\n",
    "    \n",
    "    \n",
    "    qml.PauliX(wires=1)\n",
    "    qml.Hadamard(wires=1)\n",
    "    qml.Barrier()\n",
    "\n",
    "    \n",
    "    \n",
    "    #function\n",
    "    f(id=id)\n",
    "\n",
    "    qml.Barrier()\n",
    "    \n",
    "    #interference\n",
    "    qml.Hadamard(wires=0)\n",
    "    \n",
    "    \n",
    "    #measurement\n",
    "    return qml.probs(wires=[0])\n",
    "\n"
   ]
  },
  {
   "cell_type": "code",
   "execution_count": 170,
   "metadata": {},
   "outputs": [
    {
     "name": "stdout",
     "output_type": "stream",
     "text": [
      "[1. 0.]\n"
     ]
    },
    {
     "data": {
      "text/plain": [
       "(<Figure size 900x300 with 1 Axes>, <Axes: >)"
      ]
     },
     "execution_count": 170,
     "metadata": {},
     "output_type": "execute_result"
    },
    {
     "data": {
      "image/png": "[encoded data removed]",
      "text/plain": [
       "<Figure size 900x300 with 1 Axes>"
      ]
     },
     "metadata": {},
     "output_type": "display_data"
    }
   ],
   "source": [
    "#execute the circuit\n",
    "print(Deutsch(id=4))\n",
    "qml.draw_mpl(Deutsch)()"
   ]
  },
  {
   "cell_type": "markdown",
   "metadata": {},
   "source": [
    "### 3. Deutsch-Jozsa Algorithm <a id=\"Deutsch-jozsa\"></a>"
   ]
  },
  {
   "cell_type": "markdown",
   "metadata": {},
   "source": [
    "Deutsch-Josza algorithm is the generalization of the previous algorithm for boolean functions for $n$ bit strings rather than single bit string inputs.\n",
    "\n",
    "<p align=\"center\">\n",
    "  <img width=\"700\" height=\"200\" src=\"images/dj.png\">\n",
    "</p>\n",
    "\n",
    "The results for the single input case also remain true in this setting with minor differences:\n",
    "\n",
    "* Hadamard uniform superposition over all qubits instead of a single qubit\n",
    "* We will measure all input qubits instead of the single qubit\n",
    "* $P(000 \\dots 0)=1$ if the function is **constant**\n",
    "* $P(000 \\dots 0)=0$ if the function is **balanced**\n",
    "\n",
    "\n"
   ]
  },
  {
   "cell_type": "markdown",
   "metadata": {},
   "source": []
  },
  {
   "cell_type": "markdown",
   "metadata": {},
   "source": [
    "#### Implement Deuscht-Jozsa Algorithm "
   ]
  },
  {
   "cell_type": "code",
   "execution_count": 171,
   "metadata": {},
   "outputs": [],
   "source": [
    "def function():\n",
    "    qml.Toffoli(wires=[0, 1, 2])\n",
    "\n",
    "@qml.qnode(dev)\n",
    "def Deutsch_Jozsa(nqubits_input, nqubits_ancilla):\n",
    "\n",
    "    #inputs\n",
    "    for i in range(nqubits_input):\n",
    "        qml.Hadamard(wires=i)\n",
    "    # or\n",
    "    # qml.broadcast(qml.Hadamard, wires=range(nqubits_input), pattern=\"single\")\n",
    "\n",
    "    #ancilla\n",
    "    qml.PauliX(wires=nqubits_ancilla)\n",
    "    qml.Hadamard(wires=nqubits_ancilla)\n",
    "\n",
    "    #function\n",
    "    function()\n",
    "    \n",
    "    #interference\n",
    "    for i in range(nqubits_input):\n",
    "        qml.Hadamard(wires=i)\n",
    "    \n",
    "    #measurement\n",
    "    return qml.probs(wires=range(nqubits_input))\n"
   ]
  },
  {
   "cell_type": "code",
   "execution_count": 172,
   "metadata": {},
   "outputs": [
    {
     "data": {
      "text/plain": [
       "(<Figure size 700x400 with 1 Axes>, <Axes: >)"
      ]
     },
     "execution_count": 172,
     "metadata": {},
     "output_type": "execute_result"
    },
    {
     "data": {
      "image/png": "[encoded data removed]",
      "text/plain": [
       "<Figure size 700x400 with 1 Axes>"
      ]
     },
     "metadata": {},
     "output_type": "display_data"
    }
   ],
   "source": [
    "#execute the circuit\n",
    "qml.draw_mpl(Deutsch_Jozsa)(nqubits_input=2, nqubits_ancilla=[2])"
   ]
  },
  {
   "cell_type": "markdown",
   "metadata": {},
   "source": [
    "#### Implement the Deutsch-Josza algorithm for the 3-bit string function with truth table \n",
    "\n",
    "|x_0|x_1|y|        \n",
    "|-|-|-|\n",
    "|0|0|0|\n",
    "|0|1|1|\n",
    "|1|0|1|\n",
    "|1|1|0|"
   ]
  },
  {
   "cell_type": "code",
   "execution_count": null,
   "metadata": {},
   "outputs": [],
   "source": []
  },
  {
   "cell_type": "markdown",
   "metadata": {},
   "source": [
    "Consider the following 3-qubit input state truth table:\n",
    "\n",
    "| Input | Output |\n",
    "|-------|--------|\n",
    "| 000   | 1      |\n",
    "| 001   | 1      |\n",
    "| 010   | 1      |\n",
    "| 011   | 1      |\n",
    "| 100   | 0      |\n",
    "| 101   | 0      |\n",
    "| 110   | 0      |\n",
    "| 111   | 0      |\n",
    "\n",
    "implement the algorithm for this function "
   ]
  },
  {
   "cell_type": "code",
   "execution_count": null,
   "metadata": {},
   "outputs": [],
   "source": []
  }
 ],
 "metadata": {
  "kernelspec": {
   "display_name": "usr",
   "language": "python",
   "name": "python3"
  },
  "language_info": {
   "codemirror_mode": {
    "name": "ipython",
    "version": 3
   },
   "file_extension": ".py",
   "mimetype": "text/x-python",
   "name": "python",
   "nbconvert_exporter": "python",
   "pygments_lexer": "ipython3",
   "version": "3.12.3"
  }
 },
 "nbformat": 4,
 "nbformat_minor": 2
}
